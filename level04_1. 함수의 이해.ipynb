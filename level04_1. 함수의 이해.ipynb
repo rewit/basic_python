{
 "cells": [
  {
   "cell_type": "markdown",
   "metadata": {},
   "source": [
    "#### **함수(메서드)**\n",
    "  + sum(), range(), len() => 파이썬 내장함수(built-in function)\n",
    "  + input & output이 있고, input (매개변수), output return"
   ]
  },
  {
   "cell_type": "code",
   "execution_count": 1,
   "metadata": {},
   "outputs": [
    {
     "name": "stdout",
     "output_type": "stream",
     "text": [
      "4\n",
      "10\n"
     ]
    }
   ],
   "source": [
    "# 내장 함수\n",
    "a =[1,2,3,4]\n",
    "length = len(a)\n",
    "print(length)\n",
    "_sum=sum(a)\n",
    "print(_sum)"
   ]
  },
  {
   "cell_type": "markdown",
   "metadata": {},
   "source": [
    "#### **함수의 정의**\n",
    " + def키워드를 사용해서 함수를 정의\n",
    " + argument 정의(매개변수)\n",
    " + 함수도 블록문 : 사용\n",
    " + 결과값을 반환하고 싶을 때는 return\n",
    " + 반환값이 없을 때 return만 사용하시면 = 메서드 종료\n",
    " + 함수의 이름은 어떤 함수인지 최대한 나타날 수 있게 작성\n",
    " + 전부 소문자 합성어 _사용 ex) get_studnet_name()\n",
    " \n",
    " PEP8 = Style Guide  \n",
    "  : 코딩할 때 규칙을 정의해 놓음  \n",
    "  https://www.python.org/dev/peps/pep-0008  \n",
    "  Google 자체적으로 만든 Python Style Guide  \n",
    "  https://google.github.io/styleguide/pyguide.html"
   ]
  },
  {
   "cell_type": "code",
   "execution_count": 3,
   "metadata": {},
   "outputs": [
    {
     "name": "stdout",
     "output_type": "stream",
     "text": [
      "330\n"
     ]
    }
   ],
   "source": [
    "def add(x, y):\n",
    "    n = x + y\n",
    "    return n\n",
    "\n",
    "a = add(30, 300)\n",
    "print(a)"
   ]
  },
  {
   "cell_type": "code",
   "execution_count": 10,
   "metadata": {},
   "outputs": [
    {
     "ename": "TypeError",
     "evalue": "add() missing 1 required positional argument: 'z'",
     "output_type": "error",
     "traceback": [
      "\u001b[1;31m---------------------------------------------------------------------------\u001b[0m",
      "\u001b[1;31mTypeError\u001b[0m                                 Traceback (most recent call last)",
      "\u001b[1;32m<ipython-input-10-9ae6281bd994>\u001b[0m in \u001b[0;36m<module>\u001b[1;34m\u001b[0m\n\u001b[0;32m      8\u001b[0m     \u001b[0mn\u001b[0m \u001b[1;33m=\u001b[0m \u001b[0mx\u001b[0m \u001b[1;33m+\u001b[0m \u001b[0my\u001b[0m \u001b[1;33m+\u001b[0m \u001b[0mz\u001b[0m\u001b[1;33m\u001b[0m\u001b[1;33m\u001b[0m\u001b[0m\n\u001b[0;32m      9\u001b[0m     \u001b[1;32mreturn\u001b[0m \u001b[0mn\u001b[0m\u001b[1;33m\u001b[0m\u001b[1;33m\u001b[0m\u001b[0m\n\u001b[1;32m---> 10\u001b[1;33m \u001b[0ma\u001b[0m \u001b[1;33m=\u001b[0m \u001b[0madd\u001b[0m\u001b[1;33m(\u001b[0m\u001b[1;36m30\u001b[0m\u001b[1;33m,\u001b[0m \u001b[1;36m300\u001b[0m\u001b[1;33m)\u001b[0m\u001b[1;33m\u001b[0m\u001b[1;33m\u001b[0m\u001b[0m\n\u001b[0m\u001b[0;32m     11\u001b[0m \u001b[0mb\u001b[0m \u001b[1;33m=\u001b[0m \u001b[0madd\u001b[0m\u001b[1;33m(\u001b[0m\u001b[1;36m10\u001b[0m\u001b[1;33m,\u001b[0m \u001b[1;36m20\u001b[0m\u001b[1;33m,\u001b[0m \u001b[1;36m30\u001b[0m\u001b[1;33m)\u001b[0m\u001b[1;33m\u001b[0m\u001b[1;33m\u001b[0m\u001b[0m\n\u001b[0;32m     12\u001b[0m \u001b[0mprint\u001b[0m\u001b[1;33m(\u001b[0m\u001b[0ma\u001b[0m\u001b[1;33m,\u001b[0m\u001b[0mb\u001b[0m\u001b[1;33m)\u001b[0m\u001b[1;33m\u001b[0m\u001b[1;33m\u001b[0m\u001b[0m\n",
      "\u001b[1;31mTypeError\u001b[0m: add() missing 1 required positional argument: 'z'"
     ]
    }
   ],
   "source": [
    "# 메서드 오버로딩 개념 없음!\n",
    "# 메서드 오버라이딩 개념 있음!(상속)\n",
    "def add(x, y):\n",
    "    n = x + y\n",
    "    return n\n",
    "\n",
    "def add(x, y, z):\n",
    "    n = x + y + z\n",
    "    return n\n",
    "a = add(30, 300)\n",
    "b = add(10, 20, 30)\n",
    "print(a,b)"
   ]
  },
  {
   "cell_type": "markdown",
   "metadata": {},
   "source": [
    "#### **parameter(argument) 인자**\n",
    " + 메서드에 전달되는 입력(input)\n",
    " + () : 입력없음, (x) : 입력 1건, (x, y, z, ...) : 입력 여러건\n",
    " + 매개변수로 int, string, float, boolean, list, dict 등 어떤 파이썬 객체도 전달 가능\n",
    " + 함수도 함수의 매개변수로 전달 가능\n",
    " + 파이썬의 경우 동적바인딩으로 변수를 정의하기 때문에 함수 생성시 의도된 매개변수의 타입에 맞게 입력을 전달!\n",
    " + 매개변수를 전달 할 때, 정의된 수서에 따라 값을 전달하는 것이 중요"
   ]
  },
  {
   "cell_type": "markdown",
   "metadata": {},
   "source": [
    "#### **Default parameter(기본 인자)**\n",
    " + 함수의 파라미터에 기본값 지정 가능\n",
    " + 파라미터에 값이 들어오지 않은 경우, 지정된 기본값으로 대체\n",
    " + 디폴트 인자는 매개변수 순서가 앞에서부터 사용가능(중간, 끝 사용불가)"
   ]
  },
  {
   "cell_type": "code",
   "execution_count": 11,
   "metadata": {},
   "outputs": [
    {
     "data": {
      "text/plain": [
       "30"
      ]
     },
     "execution_count": 11,
     "metadata": {},
     "output_type": "execute_result"
    }
   ],
   "source": [
    "def add(x=5,y=10,z=15):\n",
    "    a= x + y + z\n",
    "    return a\n",
    "add()"
   ]
  },
  {
   "cell_type": "code",
   "execution_count": 13,
   "metadata": {},
   "outputs": [
    {
     "data": {
      "text/plain": [
       "120"
      ]
     },
     "execution_count": 13,
     "metadata": {},
     "output_type": "execute_result"
    }
   ],
   "source": [
    "def add(x=5,y=10,z=15):\n",
    "    a= x + y + z\n",
    "    return a\n",
    "add(y=100) # 키워드 파라미터"
   ]
  },
  {
   "cell_type": "code",
   "execution_count": 19,
   "metadata": {},
   "outputs": [
    {
     "data": {
      "text/plain": [
       "120"
      ]
     },
     "execution_count": 19,
     "metadata": {},
     "output_type": "execute_result"
    }
   ],
   "source": [
    "# 디폴트파라미터 뒤에 일반파라미터가 존재 X\n",
    "def add(y, x=5, z=15):\n",
    "    a= x + y + z\n",
    "    return a\n",
    "add(y= 100)"
   ]
  },
  {
   "cell_type": "code",
   "execution_count": 20,
   "metadata": {},
   "outputs": [
    {
     "data": {
      "text/plain": [
       "120"
      ]
     },
     "execution_count": 20,
     "metadata": {},
     "output_type": "execute_result"
    }
   ],
   "source": [
    "def add(y, x, z=15):\n",
    "    a= x + y + z\n",
    "    return a\n",
    "add(100, 5)"
   ]
  },
  {
   "cell_type": "markdown",
   "metadata": {},
   "source": [
    "#### **return (리턴)**\n",
    " + return 옆에 값이나 수식이 존재한다면 값을 반환\n",
    " + return만 존재하면 None 반환\n",
    " + return이 없는 경우, 기본적으로 함수 코드 블럭이 종료되면 종료, None 반환\n",
    " + return문 다음에 오는 코드는 실행 안됨(Error 발생은 안함)"
   ]
  },
  {
   "cell_type": "code",
   "execution_count": 22,
   "metadata": {},
   "outputs": [
    {
     "data": {
      "text/plain": [
       "60"
      ]
     },
     "execution_count": 22,
     "metadata": {},
     "output_type": "execute_result"
    }
   ],
   "source": [
    "def weird_multiply(x, y):\n",
    "    if x > 10:\n",
    "        return x * y\n",
    "    \n",
    "    print(x + y)\n",
    "    return(x + 2) * y\n",
    "\n",
    "weird_multiply(12, 5)"
   ]
  },
  {
   "cell_type": "code",
   "execution_count": 23,
   "metadata": {},
   "outputs": [
    {
     "name": "stdout",
     "output_type": "stream",
     "text": [
      "60\n"
     ]
    }
   ],
   "source": [
    "def weird_multiply(x, y):\n",
    "    if x > 10:\n",
    "        return x * y\n",
    "    \n",
    "    print(x + y)\n",
    "    return(x + 2) * y\n",
    "\n",
    "c=weird_multiply(12, 5)\n",
    "print(c)"
   ]
  },
  {
   "cell_type": "markdown",
   "metadata": {},
   "source": [
    "#### **multiple return(복수 값 반환)**\n",
    " - tuple반환을 하여 보수개의 값 리턴 가능"
   ]
  },
  {
   "cell_type": "code",
   "execution_count": 27,
   "metadata": {},
   "outputs": [
    {
     "name": "stdout",
     "output_type": "stream",
     "text": [
      "(23, 60)\n",
      "52 100\n"
     ]
    }
   ],
   "source": [
    "# Tuple : 값변경 불가, () 생략 가능\n",
    "# Tuple unpacking : Tuple에 있는 값을 쪼개서 낱개로 받는 것\n",
    "def add_mul(x, y):\n",
    "    s = x + y\n",
    "    m = x * y\n",
    "    \n",
    "    return s, m\n",
    "\n",
    "c = add_mul(20, 3)\n",
    "a, b = add_mul(50, 2)\n",
    "print(c) # () = Tuple\n",
    "print(a, b)"
   ]
  },
  {
   "cell_type": "markdown",
   "metadata": {},
   "source": [
    "#### **변수의 범위**\n",
    " + 변수가 참조 가능한 코드상의 범위를 명시\n",
    " + 함수내의 변수는 자신이 속한 코드 블록이 종료되면 소멸됨\n",
    " + 특정 코드 블록 내에서 사용되는 변수를 지역변수라고 함\n",
    " + 가장 상단에 정의되어 프로그램 종로 전까지 유지되는 변수를 전역변수라고함\n",
    " + 같은 이름의 지역변수와 전역변수가 존재할 때 지역변수가 우선순위가 높음"
   ]
  },
  {
   "cell_type": "code",
   "execution_count": 29,
   "metadata": {},
   "outputs": [
    {
     "name": "stdout",
     "output_type": "stream",
     "text": [
      "30 40\n",
      "50 100\n"
     ]
    }
   ],
   "source": [
    "num1 = 50  # 전역변수\n",
    "num2 = 100 # 전역변수\n",
    "\n",
    "def test(num1, num2): # 지역변수\n",
    "    print(num1, num2)\n",
    "    return num1 + num2\n",
    "\n",
    "test(30, 40)\n",
    "print(num1,num2)"
   ]
  },
  {
   "cell_type": "markdown",
   "metadata": {},
   "source": [
    "#### **함수안에서 함수밖의 전역변수를 변경하는 방법**"
   ]
  },
  {
   "cell_type": "code",
   "execution_count": 31,
   "metadata": {},
   "outputs": [
    {
     "name": "stdout",
     "output_type": "stream",
     "text": [
      "1\n",
      "4\n"
     ]
    }
   ],
   "source": [
    "# 1. return을 사용하는 방법\n",
    "a= 1 # 전역변수\n",
    "print(a)\n",
    "\n",
    "def var_test(a): # 지역변수\n",
    "    a = a+ 1\n",
    "    return a\n",
    "a= var_test(3) # 전역변수 a = return값을 담음\n",
    "print(a)"
   ]
  },
  {
   "cell_type": "code",
   "execution_count": 34,
   "metadata": {},
   "outputs": [
    {
     "name": "stdout",
     "output_type": "stream",
     "text": [
      "1\n",
      "2\n"
     ]
    }
   ],
   "source": [
    "# 2. global 키워드를 사용하는 방법\n",
    "a = 1 # 전역변수\n",
    "print(a)\n",
    "\n",
    "def var_test():\n",
    "    global a # 여기서 쓰는 a는 전역변수\n",
    "    a = a + 1\n",
    "\n",
    "var_test()\n",
    "print(a)\n",
    "\n",
    "# google style guide에서는 global을 사용하지 말아라!\n",
    "# 이유는? 아무 쓰잘데기 없음."
   ]
  },
  {
   "cell_type": "markdown",
   "metadata": {},
   "source": [
    "#### **가변길이 매개변수**\n",
    " + 전달되는 파라미터의 개수가 고정적이지 않은 경우 사용\n",
    " + ex) print함수, format함수\n",
    " > *args: 파라미터를 튜플 형태로 전달\n",
    " \n",
    " > \\*\\*kwargs: 파라미터를 딕셔너리 형태로 전달(네임드 파라미터)"
   ]
  },
  {
   "cell_type": "code",
   "execution_count": 36,
   "metadata": {},
   "outputs": [
    {
     "name": "stdout",
     "output_type": "stream",
     "text": [
      "1 2 3\n"
     ]
    }
   ],
   "source": [
    "a = 1\n",
    "b = 2\n",
    "c = 3\n",
    "\n",
    "print(a, b, c)\n",
    "\n",
    "# def print(*args):\n",
    "#    pass"
   ]
  },
  {
   "cell_type": "code",
   "execution_count": 37,
   "metadata": {},
   "outputs": [
    {
     "name": "stdout",
     "output_type": "stream",
     "text": [
      "10\n",
      "20\n",
      "30\n",
      "40\n",
      "50\n"
     ]
    }
   ],
   "source": [
    "def test(*args):\n",
    "    for item in args:\n",
    "        print(item)\n",
    "        \n",
    "test(10, 20, 30, 40, 50)"
   ]
  },
  {
   "cell_type": "markdown",
   "metadata": {},
   "source": [
    "#### **keyword 파라미터**\n",
    " + 함수 호출 시, 파라미터의 이름과 값을 함께 전달 가능"
   ]
  },
  {
   "cell_type": "code",
   "execution_count": 41,
   "metadata": {},
   "outputs": [
    {
     "name": "stdout",
     "output_type": "stream",
     "text": [
      "key:  a , value:  1\n"
     ]
    }
   ],
   "source": [
    "def test2(**kwargs):\n",
    "    for key, value in kwargs.items():\n",
    "        print('key: ', key,', value: ', value)\n",
    "test2(a=1)"
   ]
  },
  {
   "cell_type": "markdown",
   "metadata": {},
   "source": [
    " + 가변길이 함수의 대표적인 예: 문자열 포맷함수"
   ]
  },
  {
   "cell_type": "code",
   "execution_count": 44,
   "metadata": {},
   "outputs": [
    {
     "name": "stdout",
     "output_type": "stream",
     "text": [
      "오늘 온도는 20도이고 강수확률은 30%입니다.\n"
     ]
    }
   ],
   "source": [
    "temp = 24\n",
    "rain=20\n",
    "str = '오늘 온도는 {temp}도이고 강수확률은 {rain}%입니다.'.format(temp=20,rain=30)\n",
    "print(str)"
   ]
  }
 ],
 "metadata": {
  "kernelspec": {
   "display_name": "Python 3",
   "language": "python",
   "name": "python3"
  },
  "language_info": {
   "codemirror_mode": {
    "name": "ipython",
    "version": 3
   },
   "file_extension": ".py",
   "mimetype": "text/x-python",
   "name": "python",
   "nbconvert_exporter": "python",
   "pygments_lexer": "ipython3",
   "version": "3.7.3"
  }
 },
 "nbformat": 4,
 "nbformat_minor": 2
}
