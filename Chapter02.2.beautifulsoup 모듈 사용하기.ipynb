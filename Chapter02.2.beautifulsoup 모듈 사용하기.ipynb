{
 "cells": [
  {
   "cell_type": "code",
   "execution_count": 1,
   "metadata": {},
   "outputs": [],
   "source": [
    "import requests\n",
    "from bs4 import BeautifulSoup"
   ]
  },
  {
   "cell_type": "markdown",
   "metadata": {},
   "source": [
    "#### **다음 뉴스 데이터 추출**"
   ]
  },
  {
   "cell_type": "code",
   "execution_count": 6,
   "metadata": {},
   "outputs": [
    {
     "name": "stdout",
     "output_type": "stream",
     "text": [
      "'숙박시설 과잉' 제주서 관광숙박업 제한..효과는 '의문'\n"
     ]
    }
   ],
   "source": [
    "url = 'https://news.v.daum.net/v/20191001143733447'\n",
    "resp = requests.get(url)\n",
    "\n",
    "soup = BeautifulSoup(resp.text)\n",
    "title = soup.find('h3',class_='tit_view')\n",
    "print(title.text)"
   ]
  },
  {
   "cell_type": "markdown",
   "metadata": {},
   "source": [
    "#### **조건이 같은 태그가 여러개 있을 때**\n",
    "  - 뉴스의 기자와 작성일자 가져오기"
   ]
  },
  {
   "cell_type": "code",
   "execution_count": 8,
   "metadata": {},
   "outputs": [
    {
     "name": "stdout",
     "output_type": "stream",
     "text": [
      "강승남 기자\n",
      "입력 2019.10.01. 14:37\n"
     ]
    }
   ],
   "source": [
    "url = 'https://news.v.daum.net/v/20191001143733447'\n",
    "resp = requests.get(url)\n",
    "\n",
    "soup = BeautifulSoup(resp.text)\n",
    "info = soup.find_all('span',class_='txt_info')\n",
    "print(info[0].text) # 기자\n",
    "print(info[1].text) # 작성일"
   ]
  }
 ],
 "metadata": {
  "kernelspec": {
   "display_name": "Python 3",
   "language": "python",
   "name": "python3"
  },
  "language_info": {
   "codemirror_mode": {
    "name": "ipython",
    "version": 3
   },
   "file_extension": ".py",
   "mimetype": "text/x-python",
   "name": "python",
   "nbconvert_exporter": "python",
   "pygments_lexer": "ipython3",
   "version": "3.7.3"
  }
 },
 "nbformat": 4,
 "nbformat_minor": 2
}
