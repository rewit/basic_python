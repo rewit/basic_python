{
 "cells": [
  {
   "cell_type": "markdown",
   "metadata": {},
   "source": [
    "### list, tuple, set, dictionary\n",
    "  - 여러개의 데이터를 담을 수 있는 type\n",
    "  - JAVA(list,map,set)이 존재\n",
    "  \n",
    "list : 생성된 후에 값 변경 가능  \n",
    "tuple : 생성된 후에 값 변경 불가능\n"
   ]
  },
  {
   "cell_type": "code",
   "execution_count": 10,
   "metadata": {},
   "outputs": [
    {
     "name": "stdout",
     "output_type": "stream",
     "text": [
      "A\n"
     ]
    }
   ],
   "source": [
    "# 학점 관리 프로그램\n",
    "# A, B, C, D, F\n",
    "\n",
    "grade=['A','B','C','D','F'] # 학점등급: 고유(불면)  =  tuple\n",
    "\n",
    "score = 92\n",
    "if score >= 90:\n",
    "    print(grade[0])\n",
    "elif score >= 80:\n",
    "    print(grade[1])"
   ]
  },
  {
   "cell_type": "markdown",
   "metadata": {},
   "source": [
    "### 리스트를 생성하는 방법\n",
    "1. [, ,] 값을 담음\n",
    "2. list() 함수로 생성\n",
    "3. str.split() 함수로 생성"
   ]
  },
  {
   "cell_type": "code",
   "execution_count": 15,
   "metadata": {},
   "outputs": [],
   "source": [
    "#JAVA 예약어로 변수를 생성하면 에러가 발생\n",
    "#python 예약어로 변수 생성하면 생성되고, 기존에 예약어 기능을 상실함\n",
    "grade = [1,2,3,4,5]\n",
    "# list = ['A','B','C'] 리스트 타입의 list변수를 생성 but list() 사용 불가\n",
    "# list에 이름을 변경하면 되는데, \n",
    "\n",
    "#String name = '꼬북이' #기본자료형 X 객체자료형\n",
    "\n",
    "#name = '파이리'\n",
    "#꼬북이가 사라지는게 아니라 꼬북이도 남아있고 파이리도 남아있음\n",
    "\n",
    "# del list # 백그라운드 객체 제거\n",
    "\n",
    "a = list()"
   ]
  },
  {
   "cell_type": "markdown",
   "metadata": {},
   "source": [
    "  - 다양한 데이터 타입을 담을 수 있음"
   ]
  },
  {
   "cell_type": "code",
   "execution_count": 18,
   "metadata": {},
   "outputs": [
    {
     "name": "stdout",
     "output_type": "stream",
     "text": [
      "[]\n"
     ]
    }
   ],
   "source": [
    "a = []\n",
    "print(a)"
   ]
  },
  {
   "cell_type": "code",
   "execution_count": 17,
   "metadata": {},
   "outputs": [
    {
     "name": "stdout",
     "output_type": "stream",
     "text": [
      "[1, 2, 3, 4, 5]\n"
     ]
    }
   ],
   "source": [
    "a = [1,2,3,4,5]\n",
    "print(a)"
   ]
  },
  {
   "cell_type": "code",
   "execution_count": 20,
   "metadata": {},
   "outputs": [
    {
     "name": "stdout",
     "output_type": "stream",
     "text": [
      "['korea', '파이리', 'A', 1, 23, [34, 56]]\n"
     ]
    }
   ],
   "source": [
    "a = ['korea','파이리','A',1,23,[34,56]]\n",
    "print(a)"
   ]
  },
  {
   "cell_type": "markdown",
   "metadata": {},
   "source": [
    "  - list()함수\n",
    "    - 다른 데이터 타입을 list로 변경시킬 때 많이 사용"
   ]
  },
  {
   "cell_type": "code",
   "execution_count": 23,
   "metadata": {},
   "outputs": [
    {
     "name": "stdout",
     "output_type": "stream",
     "text": [
      "['H', 'e', 'l', 'l', 'o', ' ', 'P', 'y', 't', 'h', 'o', 'n']\n",
      "[1, 2, 3]\n"
     ]
    }
   ],
   "source": [
    "c = 'Hello Python'\n",
    "d = list(c)\n",
    "print(d)\n",
    "\n",
    "e = (1,2,3) #  () typle  [] list\n",
    "f = list(e)\n",
    "\n",
    "print(f)"
   ]
  },
  {
   "cell_type": "markdown",
   "metadata": {},
   "source": [
    "  - string split 함수 (자주 사용)"
   ]
  },
  {
   "cell_type": "code",
   "execution_count": 25,
   "metadata": {},
   "outputs": [
    {
     "name": "stdout",
     "output_type": "stream",
     "text": [
      "['Life', 'is', 'too', 'short,', 'You', 'need', 'Python']\n"
     ]
    }
   ],
   "source": [
    "a = 'Life is too short, You need Python'\n",
    "b = a.split()\n",
    "\n",
    "print(b) # split()를 사용하면 결과 list 타입으로 담김 "
   ]
  },
  {
   "cell_type": "markdown",
   "metadata": {},
   "source": [
    "**리스트 인덱싱**"
   ]
  },
  {
   "cell_type": "code",
   "execution_count": 28,
   "metadata": {},
   "outputs": [
    {
     "name": "stdout",
     "output_type": "stream",
     "text": [
      "3\n",
      "5\n",
      "5\n"
     ]
    }
   ],
   "source": [
    "a = [1,2,3,4,5]\n",
    "print(a[2])\n",
    "print(a[4])\n",
    "print(a[-1])"
   ]
  },
  {
   "cell_type": "markdown",
   "metadata": {},
   "source": [
    "  - 인덱스로 값을 변경\n",
    "  - Python에서 typle과 문자열은 불변객체, 생성하면 변경 불가!!"
   ]
  },
  {
   "cell_type": "code",
   "execution_count": 31,
   "metadata": {},
   "outputs": [
    {
     "name": "stdout",
     "output_type": "stream",
     "text": [
      "[1, 2, 10, 4, 5]\n",
      "H\n"
     ]
    },
    {
     "ename": "TypeError",
     "evalue": "'str' object does not support item assignment",
     "output_type": "error",
     "traceback": [
      "\u001b[1;31m---------------------------------------------------------------------------\u001b[0m",
      "\u001b[1;31mTypeError\u001b[0m                                 Traceback (most recent call last)",
      "\u001b[1;32m<ipython-input-31-af610b7f7065>\u001b[0m in \u001b[0;36m<module>\u001b[1;34m\u001b[0m\n\u001b[0;32m      5\u001b[0m \u001b[0mb\u001b[0m \u001b[1;33m=\u001b[0m \u001b[1;34m'Hello Python'\u001b[0m\u001b[1;33m\u001b[0m\u001b[1;33m\u001b[0m\u001b[0m\n\u001b[0;32m      6\u001b[0m \u001b[0mprint\u001b[0m\u001b[1;33m(\u001b[0m\u001b[0mb\u001b[0m\u001b[1;33m[\u001b[0m\u001b[1;36m0\u001b[0m\u001b[1;33m]\u001b[0m\u001b[1;33m)\u001b[0m\u001b[1;33m\u001b[0m\u001b[1;33m\u001b[0m\u001b[0m\n\u001b[1;32m----> 7\u001b[1;33m \u001b[0mb\u001b[0m\u001b[1;33m[\u001b[0m\u001b[1;36m0\u001b[0m\u001b[1;33m]\u001b[0m \u001b[1;33m=\u001b[0m \u001b[1;34m'h'\u001b[0m\u001b[1;33m\u001b[0m\u001b[1;33m\u001b[0m\u001b[0m\n\u001b[0m\u001b[0;32m      8\u001b[0m \u001b[0mprint\u001b[0m\u001b[1;33m(\u001b[0m\u001b[0mb\u001b[0m\u001b[1;33m)\u001b[0m\u001b[1;33m\u001b[0m\u001b[1;33m\u001b[0m\u001b[0m\n",
      "\u001b[1;31mTypeError\u001b[0m: 'str' object does not support item assignment"
     ]
    }
   ],
   "source": [
    "a = [1,2,3,4,5]\n",
    "a[2] = 10\n",
    "print(a)\n",
    "\n",
    "b = 'Hello Python'\n",
    "print(b[0])\n",
    "b[0] = 'h'\n",
    "print(b)"
   ]
  },
  {
   "cell_type": "code",
   "execution_count": 33,
   "metadata": {},
   "outputs": [
    {
     "name": "stdout",
     "output_type": "stream",
     "text": [
      "hello Python\n",
      "hello Python\n"
     ]
    }
   ],
   "source": [
    "#불변이기 때문에 실제 변수에 값을 변경은 불가!!\n",
    "#새로운 변수를 새엇ㅇ해서 기존값을 전처리 후 옮기는 방법\n",
    "b = 'Hello Python'\n",
    "c = 'h' + b[1:]\n",
    "print(c)\n",
    "\n",
    "d=b.replace('H','h')\n",
    "print(d)"
   ]
  },
  {
   "cell_type": "markdown",
   "metadata": {},
   "source": [
    "### 리스트 슬라이싱\n",
    "  - 문자열 슬라이싱과 동일\n",
    "  - 결과도 list로 받음"
   ]
  },
  {
   "cell_type": "code",
   "execution_count": 40,
   "metadata": {},
   "outputs": [
    {
     "name": "stdout",
     "output_type": "stream",
     "text": [
      "[1, 2, 3, 4, 5, 6, 7, 8, 9, 10]\n",
      "[1, 2, 3, 4, 5]\n",
      "[6, 7, 8, 9, 10]\n",
      "[4, 5, 6, 7]\n"
     ]
    },
    {
     "data": {
      "text/plain": [
       "[1, 4, 7, 10]"
      ]
     },
     "execution_count": 40,
     "metadata": {},
     "output_type": "execute_result"
    }
   ],
   "source": [
    "a = [1,2,3,4,5,6,7,8,9,10]\n",
    "print(a[:])\n",
    "print(a[:5])\n",
    "print(a[5:])\n",
    "print(a[3:7])\n",
    "\n",
    "# 슬라이징\n",
    "# 시작:끝:증가값\n",
    "\n",
    "a[0:10]\n",
    "a[0:10:2] #증가값은 index 값\n",
    "a[0:10:3]"
   ]
  },
  {
   "cell_type": "markdown",
   "metadata": {},
   "source": [
    "### 리스트 멤버 함수"
   ]
  },
  {
   "cell_type": "code",
   "execution_count": 42,
   "metadata": {},
   "outputs": [
    {
     "name": "stdout",
     "output_type": "stream",
     "text": [
      "[1, 2, 3, 4, 5, 10]\n"
     ]
    }
   ],
   "source": [
    "a = [1,2,3,4,5]\n",
    "a.append(10) #a를 가장 마지막에 담음\n",
    "print(a)"
   ]
  },
  {
   "cell_type": "code",
   "execution_count": 45,
   "metadata": {},
   "outputs": [
    {
     "name": "stdout",
     "output_type": "stream",
     "text": [
      "[1, 2, 3, [4, 5]]\n",
      "[1, 2, 3, 4, 5]\n"
     ]
    }
   ],
   "source": [
    "a = [1,2,3]\n",
    "b = [4,5]\n",
    "\n",
    "#[1,2,3,4,5]\n",
    "a.append(b)\n",
    "print(a)\n",
    "\n",
    "c = [1,2,3]\n",
    "d = [4,5]\n",
    "\n",
    "c.extend(d)\n",
    "print(c)"
   ]
  },
  {
   "cell_type": "markdown",
   "metadata": {},
   "source": [
    "  - insert()\n",
    "    - 원하는 위치에 값을 추가 가능"
   ]
  },
  {
   "cell_type": "code",
   "execution_count": 46,
   "metadata": {},
   "outputs": [
    {
     "name": "stdout",
     "output_type": "stream",
     "text": [
      "[1, 10, 2, 3, 4, 5]\n"
     ]
    }
   ],
   "source": [
    "a = [1,2,3,4,5]\n",
    "a.insert(1,10) # 1번 인덱스에 10이라는 값을 추가, 기존 1번 인덱스값은 2번으로 한칸씩 밀림\n",
    "\n",
    "print(a)"
   ]
  },
  {
   "cell_type": "markdown",
   "metadata": {},
   "source": [
    "  - remove()\n",
    "    - 실제값으로 삭제(인덱스 x)\n",
    "    - 실제값과 동일한 값이 존재하는 경우 가장 앞에 값만 삭제\n",
    "    - 지우려는 실제값이 list에 없으면 에러 발생"
   ]
  },
  {
   "cell_type": "code",
   "execution_count": 49,
   "metadata": {},
   "outputs": [
    {
     "name": "stdout",
     "output_type": "stream",
     "text": [
      "[1, 2, 3, 4, 5]\n"
     ]
    }
   ],
   "source": [
    "a = [5,1,2,3,4,5]\n",
    "# a.remove(9)  9가 없기 떄문에 에러 발생\n",
    "a.remove(5) #제일 앞 5만 지워짐(인덱스가 아닌 실제 값)\n",
    "print(a)"
   ]
  },
  {
   "cell_type": "markdown",
   "metadata": {},
   "source": [
    "  - pop()\n",
    "    - 인덱스로 삭제\n",
    "    - 삭제하려는 인덱스에 값을 반환 후 삭제 가능\n",
    "    - 매개변수가 없으면 가장 마지막 값을 삭제"
   ]
  },
  {
   "cell_type": "code",
   "execution_count": 51,
   "metadata": {},
   "outputs": [
    {
     "name": "stdout",
     "output_type": "stream",
     "text": [
      "[1, 3, 4, 5]\n",
      "2\n"
     ]
    }
   ],
   "source": [
    "a = [1,2,3,4,5]\n",
    "\n",
    "b = a.pop(1)  # b에 '2'를 넣어두고 a에 '2'를 삭제\n",
    "\n",
    "print(a)\n",
    "print(b)"
   ]
  },
  {
   "cell_type": "markdown",
   "metadata": {},
   "source": [
    "  - index()\n",
    "    - 찾고자 하는 값의 인덱스 값 반환"
   ]
  },
  {
   "cell_type": "code",
   "execution_count": 52,
   "metadata": {},
   "outputs": [
    {
     "data": {
      "text/plain": [
       "0"
      ]
     },
     "execution_count": 52,
     "metadata": {},
     "output_type": "execute_result"
    }
   ],
   "source": [
    "a = [1,2,3,4,5]\n",
    "a.index(1)  #1이라고 하는 실제값의 인덱스를 반환"
   ]
  },
  {
   "cell_type": "markdown",
   "metadata": {},
   "source": [
    "  - in 키워드\n",
    "    - 결과 : true, False\n",
    "    - list에 해당 값이 존재하는지 유무"
   ]
  },
  {
   "cell_type": "code",
   "execution_count": 55,
   "metadata": {},
   "outputs": [
    {
     "name": "stdout",
     "output_type": "stream",
     "text": [
      "False\n",
      "True\n"
     ]
    }
   ],
   "source": [
    "a = [1,2,3,4,5]\n",
    "b = 10\n",
    "\n",
    "c = b in a\n",
    "d = 2\n",
    "\n",
    "print(c)\n",
    "print(d in a)"
   ]
  },
  {
   "cell_type": "markdown",
   "metadata": {},
   "source": [
    "  - list 정렬\n",
    "    1. sort() : 기존 리스트를 정렬\n",
    "    2. sorted() : 복사본을 생성하고 정렬(기존 리스트는 그대로)"
   ]
  },
  {
   "cell_type": "code",
   "execution_count": 58,
   "metadata": {},
   "outputs": [
    {
     "name": "stdout",
     "output_type": "stream",
     "text": [
      "[1, 1, 9, 21, 35, 48, 54, 63, 89]\n",
      "[89, 63, 54, 48, 35, 21, 9, 1, 1]\n"
     ]
    }
   ],
   "source": [
    "a = [9,1,89,54,21,35,48,1,63]\n",
    "b = sorted(a) # 기존 a는 그대로 유지, b에 정렬한 뒤 복사\n",
    "\n",
    "a.sort(reverse=True) # 기존 a를 정렬, Default: reverse=False(오름차순)\n",
    "print(b)\n",
    "print(a)"
   ]
  },
  {
   "cell_type": "markdown",
   "metadata": {},
   "source": [
    "### Tuple\n",
    "  - 여러개의 값을 갖는 컬렉션 타입\n",
    "  - 생성된 후 변경이 불가능\n",
    "  - ()로 생성"
   ]
  },
  {
   "cell_type": "code",
   "execution_count": 62,
   "metadata": {},
   "outputs": [
    {
     "name": "stdout",
     "output_type": "stream",
     "text": [
      "(1, 2, 3)\n",
      "(1, 2, 3)\n"
     ]
    }
   ],
   "source": [
    "a = (1,2,3) # () 생략 가능\n",
    "print(a)\n",
    "\n",
    "# a[0] = 10  Tuple은 값 변경 불가능\n",
    "print(a)"
   ]
  },
  {
   "cell_type": "markdown",
   "metadata": {},
   "source": [
    "### 튜플 언패킹\n",
    "  - 여러개의 변수에 동시에 값을 집어넣을 때 사용"
   ]
  },
  {
   "cell_type": "code",
   "execution_count": 63,
   "metadata": {},
   "outputs": [
    {
     "name": "stdout",
     "output_type": "stream",
     "text": [
      "100 200 300 400\n"
     ]
    }
   ],
   "source": [
    "a,b,c,d = (100, 200, 300, 400)\n",
    "print(a,b,c,d)"
   ]
  },
  {
   "cell_type": "code",
   "execution_count": 66,
   "metadata": {},
   "outputs": [
    {
     "name": "stdout",
     "output_type": "stream",
     "text": [
      "100 200\n",
      "200 100\n",
      "100 200\n"
     ]
    }
   ],
   "source": [
    "a = 100\n",
    "b = 200\n",
    "\n",
    "print(a,b)  #200, 100\n",
    "\n",
    "c = a\n",
    "a = b\n",
    "b = c\n",
    "print(a,b)#Java\n",
    "\n",
    "a,b = b,a #Python\n",
    "print(a,b)"
   ]
  }
 ],
 "metadata": {
  "kernelspec": {
   "display_name": "Python 3",
   "language": "python",
   "name": "python3"
  },
  "language_info": {
   "codemirror_mode": {
    "name": "ipython",
    "version": 3
   },
   "file_extension": ".py",
   "mimetype": "text/x-python",
   "name": "python",
   "nbconvert_exporter": "python",
   "pygments_lexer": "ipython3",
   "version": "3.7.3"
  }
 },
 "nbformat": 4,
 "nbformat_minor": 2
}
