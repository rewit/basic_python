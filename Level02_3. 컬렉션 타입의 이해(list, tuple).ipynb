{
 "cells": [
  {
   "cell_type": "markdown",
   "metadata": {},
   "source": [
    "### list, tuple, set, dictionary\n",
    "  - 여러개의 데이터를 담을 수 있는 type\n",
    "  - JAVA(list,map,set)이 존재\n",
    "  \n",
    "list : 생성된 후에 값 변경 가능  \n",
    "tuple : 생성된 후에 값 변경 불가능\n"
   ]
  },
  {
   "cell_type": "code",
   "execution_count": 10,
   "metadata": {},
   "outputs": [
    {
     "name": "stdout",
     "output_type": "stream",
     "text": [
      "A\n"
     ]
    }
   ],
   "source": [
    "# 학점 관리 프로그램\n",
    "# A, B, C, D, F\n",
    "\n",
    "grade=['A','B','C','D','F'] # 학점등급: 고유(불면)  =  tuple\n",
    "\n",
    "score = 92\n",
    "if score >= 90:\n",
    "    print(grade[0])\n",
    "elif score >= 80:\n",
    "    print(grade[1])"
   ]
  },
  {
   "cell_type": "markdown",
   "metadata": {},
   "source": [
    "### 리스트를 생성하는 방법\n",
    "1. [, ,] 값을 담음\n",
    "2. list() 함수로 생성\n",
    "3. str.split() 함수로 생성"
   ]
  },
  {
   "cell_type": "code",
   "execution_count": 15,
   "metadata": {},
   "outputs": [],
   "source": [
    "#JAVA 예약어로 변수를 생성하면 에러가 발생\n",
    "#python 예약어로 변수 생성하면 생성되고, 기존에 예약어 기능을 상실함\n",
    "grade = [1,2,3,4,5]\n",
    "# list = ['A','B','C'] 리스트 타입의 list변수를 생성 but list() 사용 불가\n",
    "# list에 이름을 변경하면 되는데, \n",
    "\n",
    "#String name = '꼬북이' #기본자료형 X 객체자료형\n",
    "\n",
    "#name = '파이리'\n",
    "#꼬북이가 사라지는게 아니라 꼬북이도 남아있고 파이리도 남아있음\n",
    "\n",
    "# del list # 백그라운드 객체 제거\n",
    "\n",
    "a = list()"
   ]
  },
  {
   "cell_type": "markdown",
   "metadata": {},
   "source": [
    "  - 다양한 데이터 타입을 담을 수 있음"
   ]
  },
  {
   "cell_type": "code",
   "execution_count": 18,
   "metadata": {},
   "outputs": [
    {
     "name": "stdout",
     "output_type": "stream",
     "text": [
      "[]\n"
     ]
    }
   ],
   "source": [
    "a = []\n",
    "print(a)"
   ]
  },
  {
   "cell_type": "code",
   "execution_count": 17,
   "metadata": {},
   "outputs": [
    {
     "name": "stdout",
     "output_type": "stream",
     "text": [
      "[1, 2, 3, 4, 5]\n"
     ]
    }
   ],
   "source": [
    "a = [1,2,3,4,5]\n",
    "print(a)"
   ]
  },
  {
   "cell_type": "code",
   "execution_count": 20,
   "metadata": {},
   "outputs": [
    {
     "name": "stdout",
     "output_type": "stream",
     "text": [
      "['korea', '파이리', 'A', 1, 23, [34, 56]]\n"
     ]
    }
   ],
   "source": [
    "a = ['korea','파이리','A',1,23,[34,56]]\n",
    "print(a)"
   ]
  },
  {
   "cell_type": "markdown",
   "metadata": {},
   "source": [
    "  - list()함수\n",
    "    - 다른 데이터 타입을 list로 변경시킬 때 많이 사용"
   ]
  },
  {
   "cell_type": "code",
   "execution_count": 23,
   "metadata": {},
   "outputs": [
    {
     "name": "stdout",
     "output_type": "stream",
     "text": [
      "['H', 'e', 'l', 'l', 'o', ' ', 'P', 'y', 't', 'h', 'o', 'n']\n",
      "[1, 2, 3]\n"
     ]
    }
   ],
   "source": [
    "c = 'Hello Python'\n",
    "d = list(c)\n",
    "print(d)\n",
    "\n",
    "e = (1,2,3) #  () typle  [] list\n",
    "f = list(e)\n",
    "\n",
    "print(f)"
   ]
  },
  {
   "cell_type": "markdown",
   "metadata": {},
   "source": [
    "  - string split 함수 (자주 사용)"
   ]
  },
  {
   "cell_type": "code",
   "execution_count": 25,
   "metadata": {},
   "outputs": [
    {
     "name": "stdout",
     "output_type": "stream",
     "text": [
      "['Life', 'is', 'too', 'short,', 'You', 'need', 'Python']\n"
     ]
    }
   ],
   "source": [
    "a = 'Life is too short, You need Python'\n",
    "b = a.split()\n",
    "\n",
    "print(b) # split()를 사용하면 결과 list 타입으로 담김 "
   ]
  },
  {
   "cell_type": "code",
   "execution_count": null,
   "metadata": {},
   "outputs": [],
   "source": []
  }
 ],
 "metadata": {
  "kernelspec": {
   "display_name": "Python 3",
   "language": "python",
   "name": "python3"
  },
  "language_info": {
   "codemirror_mode": {
    "name": "ipython",
    "version": 3
   },
   "file_extension": ".py",
   "mimetype": "text/x-python",
   "name": "python",
   "nbconvert_exporter": "python",
   "pygments_lexer": "ipython3",
   "version": "3.7.3"
  }
 },
 "nbformat": 4,
 "nbformat_minor": 2
}
