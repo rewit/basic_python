{
 "cells": [
  {
   "cell_type": "markdown",
   "metadata": {},
   "source": [
    "java에서는 8버전부터 lambda 함수를 지원하기 시작했습니다.\n",
    "\n",
    "1. 절차지향 프로그래밍 언어 - C언어\n",
    "2. 객체지향 프로그래밍 언어 - Java, Python\n",
    "3. 함수지향 프로그래밍 언어 - Go(Google)\n",
    "\n",
    "lambda는 함수적 프로그래밍을 구현할 때 사용"
   ]
  },
  {
   "cell_type": "markdown",
   "metadata": {},
   "source": [
    "#### **Lambda 함수**\n",
    " + 단일문으로 표현되는 익명함수(=한줄로 구현한 함수)\n",
    " + 익명함수란 이름이 없어, 호출이 불가능, 구현체만 존재하는 간단한 함수\n",
    " + 코드상에서 1회성으로 만들어서 사용"
   ]
  },
  {
   "cell_type": "code",
   "execution_count": 1,
   "metadata": {},
   "outputs": [
    {
     "data": {
      "text/plain": [
       "25"
      ]
     },
     "execution_count": 1,
     "metadata": {},
     "output_type": "execute_result"
    }
   ],
   "source": [
    "def square2(x):\n",
    "    return x**2\n",
    "\n",
    "square2(5)"
   ]
  },
  {
   "cell_type": "code",
   "execution_count": 2,
   "metadata": {},
   "outputs": [
    {
     "data": {
      "text/plain": [
       "25"
      ]
     },
     "execution_count": 2,
     "metadata": {},
     "output_type": "execute_result"
    }
   ],
   "source": [
    "square = lambda x:x**2\n",
    "square(5)"
   ]
  },
  {
   "cell_type": "code",
   "execution_count": 4,
   "metadata": {},
   "outputs": [
    {
     "data": {
      "text/plain": [
       "30"
      ]
     },
     "execution_count": 4,
     "metadata": {},
     "output_type": "execute_result"
    }
   ],
   "source": [
    "def add(x, y):\n",
    "    return x + y\n",
    "\n",
    "add2 = lambda x,y:x+y\n",
    "add2(10,20)"
   ]
  },
  {
   "cell_type": "code",
   "execution_count": 5,
   "metadata": {},
   "outputs": [
    {
     "data": {
      "text/plain": [
       "5"
      ]
     },
     "execution_count": 5,
     "metadata": {},
     "output_type": "execute_result"
    }
   ],
   "source": [
    "def str_len(s):\n",
    "    return len(s)\n",
    "\n",
    "str_len('goods')"
   ]
  },
  {
   "cell_type": "code",
   "execution_count": 8,
   "metadata": {},
   "outputs": [
    {
     "name": "stdout",
     "output_type": "stream",
     "text": [
      "['bob', 'teddy', 'charles', 'alexander3']\n"
     ]
    }
   ],
   "source": [
    "strings = ['bob','charles','alexander3','teddy']\n",
    "\n",
    "# strings.sort(key=str_len)\n",
    "strings.sort(key=lambda s:len(s))\n",
    "print(strings)"
   ]
  },
  {
   "cell_type": "markdown",
   "metadata": {},
   "source": [
    "#### **filter, map, reduce**\n",
    " + lambda가 유용하게 사용되는 3가지 함수\n",
    " + 함수형 프로그래밍의 기본 요소\n",
    " + filter : 특정 조건을 만족하는 요소만 추출\n",
    " + map : 각 원소를 주어진 수식에 따라 변형하여 새로운 리스트 생성\n",
    " + reudce : 차례대로 앞 2개의 원소를 가지고 연산, 연산 결과는 다음 연산의 입력으로 진행. 최종결과는 한개의 값만 남음"
   ]
  },
  {
   "cell_type": "code",
   "execution_count": 9,
   "metadata": {},
   "outputs": [
    {
     "data": {
      "text/plain": [
       "False"
      ]
     },
     "execution_count": 9,
     "metadata": {},
     "output_type": "execute_result"
    }
   ],
   "source": [
    "# fliter\n",
    "def even(n):\n",
    "    return n % 2 == 0\n",
    "\n",
    "even(3)"
   ]
  },
  {
   "cell_type": "code",
   "execution_count": 11,
   "metadata": {},
   "outputs": [
    {
     "data": {
      "text/plain": [
       "[2, 6, 8, 10]"
      ]
     },
     "execution_count": 11,
     "metadata": {},
     "output_type": "execute_result"
    }
   ],
   "source": [
    "nums = [1, 2, 3, 6, 8, 9, 10, 11, 13, 15]\n",
    "\n",
    "list(filter(even,nums))\n",
    "list(filter(lambda n:n % 2 == 0, nums))"
   ]
  },
  {
   "cell_type": "code",
   "execution_count": 13,
   "metadata": {},
   "outputs": [
    {
     "data": {
      "text/plain": [
       "[1, 4, 9, 36, 64, 81, 100, 121, 169, 225]"
      ]
     },
     "execution_count": 13,
     "metadata": {},
     "output_type": "execute_result"
    }
   ],
   "source": [
    "# map\n",
    "# 주어진 리스트, 리스트의 제곱을한 숫자로 새로운 리스트\n",
    "nums = [1, 2, 3, 6, 8, 9, 10, 11, 13, 15]\n",
    "list(map(lambda n:n**2,nums))"
   ]
  },
  {
   "cell_type": "code",
   "execution_count": 14,
   "metadata": {},
   "outputs": [
    {
     "data": {
      "text/plain": [
       "17"
      ]
     },
     "execution_count": 14,
     "metadata": {},
     "output_type": "execute_result"
    }
   ],
   "source": [
    "import functools # 모듈\n",
    "\n",
    "a = [1, 3, 5, 8]\n",
    "# 리스트 내의 모든 숫자의 합\n",
    "\n",
    "functools.reduce(lambda x,y:x+y, a)\n",
    "\n",
    "# 1 연산 2 = 결과1\n",
    "# 결과1 연산 3 = 결과2\n",
    "# 결과2 연산 4 = 결과3"
   ]
  }
 ],
 "metadata": {
  "kernelspec": {
   "display_name": "Python 3",
   "language": "python",
   "name": "python3"
  },
  "language_info": {
   "codemirror_mode": {
    "name": "ipython",
    "version": 3
   },
   "file_extension": ".py",
   "mimetype": "text/x-python",
   "name": "python",
   "nbconvert_exporter": "python",
   "pygments_lexer": "ipython3",
   "version": "3.7.3"
  }
 },
 "nbformat": 4,
 "nbformat_minor": 2
}
