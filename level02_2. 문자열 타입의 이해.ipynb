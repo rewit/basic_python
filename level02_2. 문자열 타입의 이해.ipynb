{
 "cells": [
  {
   "cell_type": "markdown",
   "metadata": {},
   "source": [
    "### String(문자열)\n",
    "  - JAVA\n",
    "    - char : ''\n",
    "    - String : \"\"\n",
    "  - Python\n",
    "    - String(한줄) : '' or \"\"\n",
    "    - String(여러줄) : ''' ''' or \"\"\" \"\"\""
   ]
  },
  {
   "cell_type": "code",
   "execution_count": 5,
   "metadata": {},
   "outputs": [
    {
     "name": "stdout",
     "output_type": "stream",
     "text": [
      "Hello Python\n",
      "Hello Python\n",
      "I \n",
      "Love \n",
      "You\n"
     ]
    }
   ],
   "source": [
    "a = 'Hello Python'\n",
    "b = \"Hello Python\"\n",
    "c = '''I \n",
    "Love \n",
    "You'''\n",
    "print(a)\n",
    "print(b)\n",
    "print(c)"
   ]
  },
  {
   "cell_type": "markdown",
   "metadata": {},
   "source": [
    "### 이스케이프\n",
    "  - 문자열 내에 특정문자에 의미를 부여하여 사용\n",
    "  - \\t: tab, \\n: 한줄 개행"
   ]
  },
  {
   "cell_type": "code",
   "execution_count": 7,
   "metadata": {},
   "outputs": [
    {
     "name": "stdout",
     "output_type": "stream",
     "text": [
      "Hello Python\n",
      "\n",
      "\n",
      "Hello \t\tPython\n"
     ]
    }
   ],
   "source": [
    "print('Hello Python\\n\\n')\n",
    "print('Hello \\t\\tPython')"
   ]
  },
  {
   "cell_type": "markdown",
   "metadata": {},
   "source": [
    "### 문자열 인덱스 & 추출\n",
    "  - 문자열의 문자는 각 index번호가 존재\n",
    "  - 첫번째 시작문자는 0번"
   ]
  },
  {
   "cell_type": "code",
   "execution_count": 17,
   "metadata": {},
   "outputs": [
    {
     "name": "stdout",
     "output_type": "stream",
     "text": [
      "Hello\n",
      "Hello Python\n",
      "Hello Python\n",
      "Hello\n",
      "Python\n",
      "n\n",
      "o\n"
     ]
    }
   ],
   "source": [
    "str = \"Hello Python\" # 길이: 12 ,  인덱스: 0~11\n",
    "len(str)# str.length : JAVA \n",
    "\n",
    "print(str[0:5]) #끝번호는 포함이 안됨 (0~4까지의 글자를 가져와라)\n",
    "\n",
    "print(str[0:len(str)]) # JAVA는 문자열의 마지막 index를 구할때 length 활용하여 구함\n",
    "print(str[:]) # 아무것도 쓰지 않으면 처음부터 끝까지 출력\n",
    "print(str[:5])\n",
    "print(str[6:])\n",
    "\n",
    "#마지막 문자를 찾고 싶을 때 \n",
    "# JAVA는 str.length로 구함\n",
    "# Python은 -1(마지막 문자)\n",
    "print(str[-1])\n",
    "print(str[-2])"
   ]
  },
  {
   "cell_type": "markdown",
   "metadata": {},
   "source": [
    "### 문자열 함수\n",
    "  - upper() : 대문자로 변경\n",
    "  - lower() : 소문자로 변경"
   ]
  },
  {
   "cell_type": "code",
   "execution_count": 1,
   "metadata": {},
   "outputs": [
    {
     "name": "stdout",
     "output_type": "stream",
     "text": [
      "HELLO PYTHON\n",
      "hello python\n"
     ]
    }
   ],
   "source": [
    "a = 'Hello Python'\n",
    "\n",
    "print(a.upper())\n",
    "print(a.lower())"
   ]
  },
  {
   "cell_type": "markdown",
   "metadata": {},
   "source": [
    "### format"
   ]
  },
  {
   "cell_type": "code",
   "execution_count": 5,
   "metadata": {},
   "outputs": [
    {
     "name": "stdout",
     "output_type": "stream",
     "text": [
      "오늘 기온은 22도 이고, 비올 확률은 15%입니다.\n"
     ]
    }
   ],
   "source": [
    "temp = 22 # 온도\n",
    "rain = 15 # 비 올 확률\n",
    "\n",
    "comment = '오늘 기온은', temp,'도 이고, 비올 확률은 ',rain,'%입니다.'\n",
    "comment = '오늘 기온은 {}도 이고, 비올 확률은 {}%입니다.'.format(temp, rain)\n",
    "print(comment)"
   ]
  },
  {
   "cell_type": "markdown",
   "metadata": {},
   "source": [
    "### replace\n",
    "  - 특정 문자열 치환\n",
    "  - 특정 문자열 제거"
   ]
  },
  {
   "cell_type": "code",
   "execution_count": 11,
   "metadata": {},
   "outputs": [
    {
     "data": {
      "text/plain": [
       "'ello Python'"
      ]
     },
     "execution_count": 11,
     "metadata": {},
     "output_type": "execute_result"
    }
   ],
   "source": [
    "str = 'Hello Python'\n",
    "str.replace('o','z')\n",
    "str.replace('H','')"
   ]
  },
  {
   "cell_type": "markdown",
   "metadata": {},
   "source": [
    "### split\n",
    "  - 문자열을 구분하여 쪼개고 리스트 생성"
   ]
  },
  {
   "cell_type": "code",
   "execution_count": 9,
   "metadata": {},
   "outputs": [
    {
     "data": {
      "text/plain": [
       "['Life', 'is', 'too', 'short,', 'You', 'need', 'Python']"
      ]
     },
     "execution_count": 9,
     "metadata": {},
     "output_type": "execute_result"
    }
   ],
   "source": [
    "str = 'Life is too short, You need Python'\n",
    "str.split(' ')\n",
    "#[, ,] : List 타입(컬렉션 프레임워크)"
   ]
  }
 ],
 "metadata": {
  "kernelspec": {
   "display_name": "Python 3",
   "language": "python",
   "name": "python3"
  },
  "language_info": {
   "codemirror_mode": {
    "name": "ipython",
    "version": 3
   },
   "file_extension": ".py",
   "mimetype": "text/x-python",
   "name": "python",
   "nbconvert_exporter": "python",
   "pygments_lexer": "ipython3",
   "version": "3.7.3"
  }
 },
 "nbformat": 4,
 "nbformat_minor": 2
}
