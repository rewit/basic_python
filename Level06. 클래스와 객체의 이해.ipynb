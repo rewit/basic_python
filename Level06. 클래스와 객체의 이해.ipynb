{
 "cells": [
  {
   "cell_type": "markdown",
   "metadata": {},
   "source": [
    "#### **class란**\n",
    " + 실세계를 모델링하여 속성(변수)과 동작(메서드)을 갖는 데이터 타입\n",
    " + Python은 string, int, list, dict... 등 모두 다 객체로 사용\n",
    " + 학생 Type을 사용하고 싶은데 Python에서 제공한느 데이터 타입에는 학생Type이 존재하지 않음, 내가 class를 사용해서 직접 학생 Type을 정의해서 사용\n",
    " + 학생 class를 생성할 때 학생을 나타내는 속성과 행동을 함께 정의\n",
    " + 변수와 메서드를 하나로 캡슐화하여 클래스로 표현"
   ]
  },
  {
   "cell_type": "code",
   "execution_count": 2,
   "metadata": {},
   "outputs": [
    {
     "name": "stdout",
     "output_type": "stream",
     "text": [
      "[1, 2, 3, 4, 5]\n",
      "<class 'list'>\n"
     ]
    }
   ],
   "source": [
    "a = [1, 2, 3, 4]\n",
    "a.append(5)\n",
    "print(a)\n",
    "print(type(a))"
   ]
  },
  {
   "cell_type": "markdown",
   "metadata": {},
   "source": [
    "#### **object란**\n",
    " + class로 생성도어 구체화된 객체(인스턴스)\n",
    " + 파이썬의 모든 것(int, str, list, dict 등)은 객체(인스턴스)\n",
    " + 실제로 class가 인스턴스화 되어 메모리에 상주하는 상태를 의미\n",
    " + class가 빵틀이라면, object는 실제로 빵틀을 찍어낸 빵이라고 비유"
   ]
  },
  {
   "cell_type": "markdown",
   "metadata": {},
   "source": [
    "#### **객체사용 3단계**\n",
    "1. class 설계\n",
    "```python\n",
    "class Test:\n",
    "    def resultPrint(name):\n",
    "        print(name,'입니다')\n",
    "```\n",
    "2. 객체생성(인스턴스)\n",
    "```python\n",
    "Test test = new Test(); -> Java\n",
    "test = Test() - Python\n",
    "```\n",
    "3. 인스턴스 사용\n",
    "```python\n",
    "test.resultPrint(\"초롱\"); -> Java\n",
    "test.resultPrint('초롱') -> Pyhton\n",
    "```"
   ]
  },
  {
   "cell_type": "markdown",
   "metadata": {},
   "source": [
    "#### **class로 만든 객체를 인스턴스라고 한다. 그렇다면 객체와 인스턴스의 차이는 무엇일까?**\n",
    "\n",
    "a = Cookie()  \n",
    "a는 객체다. 그리고 a객체는 Cookie의 인스턴스이다.  \n",
    " : 관계위주로 설명할 때는 인스턴스  \n",
    " : 'a는 인스턴스'보다는 'a는 객체'라는 표현이 어울린다.  \n",
    " : 'a는 Cookie의 객체'보다는 'a는 Cookie의 인스턴스'라는 표현이 잘어울린다"
   ]
  },
  {
   "cell_type": "markdown",
   "metadata": {},
   "source": [
    "#### **class 선언하기**"
   ]
  },
  {
   "cell_type": "code",
   "execution_count": 3,
   "metadata": {},
   "outputs": [],
   "source": [
    "class Person:\n",
    "    pass"
   ]
  },
  {
   "cell_type": "code",
   "execution_count": 6,
   "metadata": {},
   "outputs": [
    {
     "name": "stdout",
     "output_type": "stream",
     "text": [
      "<class '__main__.Person'> <class '__main__.Person'>\n",
      "113693136 113693080\n"
     ]
    }
   ],
   "source": [
    "cherry = Person()\n",
    "tom = Person()\n",
    "\n",
    "# 같은 class로 객체생성을 해도 다른 객체로 인식\n",
    "# id() = 객체가 상주하는 메모리의 주소(번지수)\n",
    "print(type(cherry), type(tom))\n",
    "print(id(cherry), id(tom))"
   ]
  },
  {
   "cell_type": "code",
   "execution_count": 8,
   "metadata": {},
   "outputs": [
    {
     "name": "stdout",
     "output_type": "stream",
     "text": [
      "<class 'list'> <class 'list'>\n",
      "85290952 113756744\n"
     ]
    }
   ],
   "source": [
    "a = list()\n",
    "b = list()\n",
    "\n",
    "print(type(a), type(b))\n",
    "print(id(a), id(b))"
   ]
  },
  {
   "cell_type": "markdown",
   "metadata": {},
   "source": [
    "#### **__init__(self): 생성자()**\n",
    " + class로 객체 생성할 때 호출됨\n",
    " + self인자는 항상 첫번째에 오며 자기 자신을 가리킴\n",
    " + 이름이 꼭 self일 필요는 없지만 관례\n",
    " + 객체생성시 변수 초기화, 메서드 실행"
   ]
  },
  {
   "cell_type": "code",
   "execution_count": 2,
   "metadata": {},
   "outputs": [
    {
     "name": "stdout",
     "output_type": "stream",
     "text": [
      "생성자 호출!\n",
      "생성자 호출!\n",
      "cherry\n",
      "jerry\n",
      "jerry\n"
     ]
    }
   ],
   "source": [
    "# class 내부에 선언된 method 반드시 첫번째 매개변수로 self를 가져야함\n",
    "#Java\n",
    "#public class Person {\n",
    "#    name = 'tom'; # 클래스 변수, 객체변수, 멤버변수\n",
    "#    \n",
    "#    public Person(name){\n",
    "#        this.name = name; # 클래스변수\n",
    "#    }\n",
    "#}\n",
    "#Person person = new Person('초롱') # 객체생성, person 인스턴스\n",
    "#System.out.println(Person.name); # 객체변수\n",
    "\n",
    "#Python\n",
    "class Person:\n",
    "    name = 'tom' # 클래스 변수\n",
    "    def __init__(self, name): # 생성자\n",
    "        print('생성자 호출!')\n",
    "        self.name = name # 객체변수 = 지역변수\n",
    "        Person.name = name # 클래스변수 = 지역변수\n",
    "    def printName(self): # 일반 메서드\n",
    "        print('테스트에요~')\n",
    "        \n",
    "# del p1 = 소멸자\n",
    "p1 = Person('cherry')\n",
    "p2 = Person('jerry')\n",
    "print(p1.name)\n",
    "print(p2.name)\n",
    "print(Person.name)"
   ]
  },
  {
   "cell_type": "markdown",
   "metadata": {},
   "source": [
    "```python\n",
    "public class Person {\n",
    "    private String name;\n",
    "    private String major;\n",
    "    \n",
    "    public Pershon(name, major) {\n",
    "        this.name = name;\n",
    "        this.major = major;\n",
    "    }\n",
    "}\n",
    "```"
   ]
  },
  {
   "cell_type": "code",
   "execution_count": 18,
   "metadata": {},
   "outputs": [
    {
     "name": "stdout",
     "output_type": "stream",
     "text": [
      "생성자 호출!\n",
      "생성자 호출!\n",
      "이름: 초롱 , 전공: 데이터과학 ,  민꽁\n",
      "이름: 체리 , 전공: 애완견 ,  민꽁\n"
     ]
    }
   ],
   "source": [
    "# Python self는 Java의 this\n",
    "# Python은 self.name 하면 객체변수라고 자동으로 생성\n",
    "num = 3 # 전역변수\n",
    "class Person:\n",
    "    name = '민꽁'                        # 클래스변수(클래스이름으로 호출)\n",
    "    # p1.name  <- '초롱'                 # 객체변수\n",
    "    # p1.major  <- '데이터과학'          # 객체변수\n",
    "    def __init__(self, name, major): # 생성자\n",
    "        print('생성자 호출!')\n",
    "        self.name = name  # p1.name = name\n",
    "        self.major = major # p1.major = major\n",
    "    def printName(self): # 일반 메서드\n",
    "        print('이름:', self.name, ', 전공:', self.major, ', ', Person.name)\n",
    "\n",
    "p1 = Person('초롱','데이터과학')\n",
    "p2 = Person('체리','애완견')\n",
    "p1.printName()\n",
    "p2.printName()"
   ]
  },
  {
   "cell_type": "code",
   "execution_count": 6,
   "metadata": {},
   "outputs": [
    {
     "name": "stdout",
     "output_type": "stream",
     "text": [
      "현재값은 :  0\n",
      "현재값은 :  2\n",
      "현재값은 :  0\n",
      "현재값은 :  1\n"
     ]
    }
   ],
   "source": [
    "# 1. 숫자를 하나 증가\n",
    "# 2. 숫자를 0으로 초기화\n",
    "class Counter:\n",
    "    def __init__(self):\n",
    "        self.num = 0\n",
    "    \n",
    "    def increment(self):\n",
    "        self.num += 1\n",
    "        \n",
    "    def reset(self):\n",
    "        self.num = 0\n",
    "        \n",
    "    def print_current_value(self):\n",
    "        print('현재값은 : ', self.num)\n",
    "        \n",
    "c1 = Counter()\n",
    "c1.print_current_value()\n",
    "c1.increment()\n",
    "c1.increment()\n",
    "c1.print_current_value()\n",
    "c1.reset()\n",
    "c1.print_current_value()\n",
    "\n",
    "c2 = Counter()\n",
    "c2.increment()\n",
    "c2.print_current_value()"
   ]
  },
  {
   "cell_type": "markdown",
   "metadata": {},
   "source": [
    "### **객체를 통한 메서드 호출**"
   ]
  },
  {
   "cell_type": "code",
   "execution_count": 7,
   "metadata": {},
   "outputs": [
    {
     "name": "stdout",
     "output_type": "stream",
     "text": [
      "현재값은 :  0\n",
      "현재값은 :  0\n"
     ]
    }
   ],
   "source": [
    "c3 = Counter()\n",
    "c3.print_current_value() # 자주 사용함\n",
    "Counter.print_current_value(c3) # 잘 사용하지 않음"
   ]
  },
  {
   "cell_type": "markdown",
   "metadata": {},
   "source": [
    "#### **method type**\n",
    "  - instance method <-- 객체로 호출\n",
    "    - 메서드는 객체 레벨로 호출되기 때문에, 해당 메서드를 호출한 객체에만 영향을 미침  \n",
    "    \n",
    "  - static method <-- class로 호출\n",
    "    - 클래스 레벨로 호출되기 때문에, 클래스 멤버변수만 변경 가능\n",
    "    - self 사용불가\n",
    "    - 객체 변수에 접근 불가(self 사용 못하기 때문)\n",
    "    - 객체생성 없이 사용 가능\n",
    "    - 메서드 생성시 @staticmethod를 위에 붙여야함\n",
    "    - 클래스명, 정적메서드명, 객체명, 정적메서드명 둘 다 호출 가능"
   ]
  },
  {
   "cell_type": "code",
   "execution_count": 10,
   "metadata": {},
   "outputs": [
    {
     "name": "stdout",
     "output_type": "stream",
     "text": [
      "8\n",
      "20\n"
     ]
    }
   ],
   "source": [
    "class Math:\n",
    "    count = 0 # 클래스 변수\n",
    "    \n",
    "    @staticmethod\n",
    "    def add(a, b):\n",
    "        return a + b\n",
    "    \n",
    "    @staticmethod\n",
    "    def multiply(a, b):\n",
    "        return a * b\n",
    "_math = Math()\n",
    "print(Math.add(3,5))\n",
    "print(Math.multiply(2,10))"
   ]
  },
  {
   "cell_type": "markdown",
   "metadata": {},
   "source": [
    "#### **상속**\n",
    "  - 기존에 정의해둔 클래스의 기능을 그대로 물려받아 사용 가능\n",
    "  - 기존 클래스에 일부 기능을 수정하거나, 변경하여 새로운 클래스 정의\n",
    "  - 코드 재사용 가능\n",
    "  - 의미적으로 is-a 관계를 갖음 (Student is a Person)\n",
    "  - 생성자는 상속받지 못함\n",
    "  - python은 다중 상속 가능"
   ]
  },
  {
   "cell_type": "code",
   "execution_count": 16,
   "metadata": {},
   "outputs": [
    {
     "name": "stdout",
     "output_type": "stream",
     "text": [
      "부모\n",
      "부모\n",
      "부모 입니다\n",
      "부모 입니다\n"
     ]
    }
   ],
   "source": [
    "# 부모 class\n",
    "class Parent:\n",
    "    name = '부모' # 클래스 변수\n",
    "    \n",
    "    def __init__(self, name2):\n",
    "        self.name2 = name2 # 객체 변수\n",
    "    def print_name(self):\n",
    "        print(Parent.name,'입니다')\n",
    "        \n",
    "# 자식 class\n",
    "class Child(Parent): #Parent 클래스를 상속\n",
    "    def __init__(self):\n",
    "        print(Parent.name) # 가능\n",
    "        print(super().name) # 가능\n",
    "        super().print_name() # 가능\n",
    "        # print(super().name2) 불가능\n",
    "        # print(Parent.name2) 불가능\n",
    "    \n",
    "ch = Child()\n",
    "ch.print_name()"
   ]
  },
  {
   "cell_type": "code",
   "execution_count": 23,
   "metadata": {},
   "outputs": [
    {
     "name": "stdout",
     "output_type": "stream",
     "text": [
      "Bob은 교촌치킨를 먹습니다\n",
      "Bob은 10시간동안 잡니다\n",
      "Bob은 1분동안 업무를 합니다\n",
      "Bob은 1분동안 업무를 합니다\n"
     ]
    }
   ],
   "source": [
    "class People:\n",
    "    def __init__(self,name,age):\n",
    "        self.name = name\n",
    "        self.age = age\n",
    "        \n",
    "    def eat(self, food):\n",
    "        print('{}은 {}를 먹습니다'.format(self.name,food))\n",
    "    def sleep(self, minute):\n",
    "        print('{}은 {}동안 잡니다'.format(self.name,minute))\n",
    "    def work(self, minute): # 메서드 오버라이딩\n",
    "        print('{}은 {}동안 업무를 합니다'.format(self.name,minute))\n",
    "        \n",
    "class Sutdent(People):\n",
    "    def __init__(self, name, age):\n",
    "        self.name = name\n",
    "        self.age = age\n",
    "    def sleep(self, minute):\n",
    "        super().sleep(minute)\n",
    "        print('{}은 {}동안 잡니다'.format(self.name,minute))        \n",
    "class Employee(People):\n",
    "    def __init__(self, name, age):\n",
    "        self.name = name\n",
    "        self.age = age\n",
    "    def work(self, minute): # 메서드 오버라이딩\n",
    "        super().work(minute) # 부모 메서드 호출\n",
    "        print('{}은 {}동안 업무를 합니다'.format(self.name,minute))        \n",
    "\n",
    "bob = Employee('Bob',25)\n",
    "bob.eat('교촌치킨')\n",
    "bob.sleep('10시간')\n",
    "bob.work('1분')"
   ]
  },
  {
   "cell_type": "markdown",
   "metadata": {},
   "source": [
    "#### **immutable 변수와 mutable 변수**\n",
    "  - mutable 변수를 잘못 사용하면 surprising effect를 경험할 수 있음(문제점)\n",
    "  - immutable 변수\n",
    "    - 숫자타입 (numbers) : 정수타입(int), 실수타입(float), 복소수타입(complex)\n",
    "    - 문자열타입 (string)\n",
    "    - 튜플타입 (tuple)\n",
    "    - 불변세트타입 (frozenset)\n",
    "    - 바이트타입 (bytes)\n",
    "  - mutable 변수\n",
    "    - 리스트타입 (list)\n",
    "    - 딕셔너리타입 (dict)\n",
    "    - 세트타입 (set)\n",
    "    - 바이트배열타입 (byte array)"
   ]
  },
  {
   "cell_type": "code",
   "execution_count": 24,
   "metadata": {},
   "outputs": [
    {
     "data": {
      "text/plain": [
       "82992800"
      ]
     },
     "execution_count": 24,
     "metadata": {},
     "output_type": "execute_result"
    }
   ],
   "source": [
    "# 문자열 값 덧붙이기\n",
    "abcde_str = 'abcd'\n",
    "id(abcde_str)"
   ]
  },
  {
   "cell_type": "code",
   "execution_count": 25,
   "metadata": {},
   "outputs": [
    {
     "data": {
      "text/plain": [
       "'abcde'"
      ]
     },
     "execution_count": 25,
     "metadata": {},
     "output_type": "execute_result"
    }
   ],
   "source": [
    "abcde_str + 'e' # 대입을 안했기 때문에 'abcde'라는 새로운 객체 생성"
   ]
  },
  {
   "cell_type": "code",
   "execution_count": 26,
   "metadata": {},
   "outputs": [
    {
     "data": {
      "text/plain": [
       "'abcd'"
      ]
     },
     "execution_count": 26,
     "metadata": {},
     "output_type": "execute_result"
    }
   ],
   "source": [
    "abcde_str"
   ]
  },
  {
   "cell_type": "code",
   "execution_count": 27,
   "metadata": {},
   "outputs": [
    {
     "data": {
      "text/plain": [
       "82992800"
      ]
     },
     "execution_count": 27,
     "metadata": {},
     "output_type": "execute_result"
    }
   ],
   "source": [
    "id(abcde_str)"
   ]
  },
  {
   "cell_type": "code",
   "execution_count": 29,
   "metadata": {},
   "outputs": [
    {
     "name": "stdout",
     "output_type": "stream",
     "text": [
      "abcdee\n"
     ]
    },
    {
     "data": {
      "text/plain": [
       "83052560"
      ]
     },
     "execution_count": 29,
     "metadata": {},
     "output_type": "execute_result"
    }
   ],
   "source": [
    "abcde_str = abcde_str+'e'\n",
    "print(abcde_str) # 값 변경\n",
    "id(abcde_str) # 기존 abcde_str 변수에 값을 대입했지만, string은 불변객체로 한번 값을 입력하면 수정불가!\n",
    "# 이에 새로운 객체를 생성하고 값을 대입함, 고로 객체의 메모리번지수가 변경됨"
   ]
  },
  {
   "cell_type": "code",
   "execution_count": 30,
   "metadata": {},
   "outputs": [
    {
     "data": {
      "text/plain": [
       "80183496"
      ]
     },
     "execution_count": 30,
     "metadata": {},
     "output_type": "execute_result"
    }
   ],
   "source": [
    "# 리스트 값 덧붙이기\n",
    "abcde_list = ['a','b','c','d']\n",
    "id(abcde_list)"
   ]
  },
  {
   "cell_type": "code",
   "execution_count": 31,
   "metadata": {},
   "outputs": [],
   "source": [
    "abcde_list.append('e')"
   ]
  },
  {
   "cell_type": "code",
   "execution_count": 33,
   "metadata": {},
   "outputs": [
    {
     "name": "stdout",
     "output_type": "stream",
     "text": [
      "['a', 'b', 'c', 'd', 'e']\n"
     ]
    },
    {
     "data": {
      "text/plain": [
       "80183496"
      ]
     },
     "execution_count": 33,
     "metadata": {},
     "output_type": "execute_result"
    }
   ],
   "source": [
    "print(abcde_list) # 값 변경됨\n",
    "id(abcde_list) # list는 mutable변수기 때문에 객체를 생성하고 값을 수정해도 객체가 바뀌지 않음"
   ]
  },
  {
   "cell_type": "markdown",
   "metadata": {},
   "source": [
    "#### **변수들의 종류 (객체변수, 클래스변수, 지역변수, 전역변수)**\n",
    "  - 전역변수 : 어디에도 포함되지 않고 선언한 변수\n",
    "  - 지역변수 : 블록문 내에 선언된 변수 (if, while, for, method 등)\n",
    "  - 클래스변수 : 클래스 상단에 선언된 변수\n",
    "  - 객체변수 : 고유한 객체에서만 사용하는 변수\n",
    "  - nonlocal 변수 : 지역변수에 상위 지역변수"
   ]
  },
  {
   "cell_type": "code",
   "execution_count": null,
   "metadata": {},
   "outputs": [],
   "source": [
    "all = '전역변수' # 전역변수(global)\n",
    "class VarKind:\n",
    "    name = '체리킹' # 클래스 변수\n",
    "    def varPrint(self, name, age): # name, age는 지역변수\n",
    "        self.name = name # self.name은 객체변수 ( 인스턴스의 독립적인 변수)\n",
    "        self.age = age\n",
    "        print(age, '세', name, '입니다')"
   ]
  },
  {
   "cell_type": "markdown",
   "metadata": {},
   "source": [
    "#### **파이썬 변수 제대로 사용해보기**\n",
    "  - class에서 내부적으로 사용하는 변수는 _변수명을 사용하세요.\n",
    "  - Java의 Private과 같음\n",
    "  - Python에서 대부분에 객체는 일반적으로 public"
   ]
  },
  {
   "cell_type": "code",
   "execution_count": 34,
   "metadata": {},
   "outputs": [],
   "source": [
    "class BankJob:\n",
    "    _goldrate = 2.2 # 금리(private, 상수)\n",
    "    # private final double GOLDRATE = 2.2d;  <-- Java"
   ]
  },
  {
   "cell_type": "markdown",
   "metadata": {},
   "source": [
    "#### **추상 클래스**\n",
    "  - 추상이란? : 공통 기능을 추상 클래스로 만들고, 각 세부기능은 해당 메서드에서 구현하는 것\n",
    "  - Python과 Java의 추상클래스 공통점\n",
    "    - 추상클래스 내에 일반메서드와 추상메서드가 올 수 있다.\n",
    "    - 추상클래스는 객체생성이 불가능하다.\n",
    "    - 추상클래스는 반드시 자식클래스에 상속하고 자식클래스를 객체생성해서만 사용할 수 있다.\n",
    "  - abc 라이브러리 사용해야함"
   ]
  },
  {
   "cell_type": "code",
   "execution_count": 36,
   "metadata": {},
   "outputs": [
    {
     "name": "stdout",
     "output_type": "stream",
     "text": [
      "practice the black art\n",
      "fly\n",
      "일반메서드\n"
     ]
    }
   ],
   "source": [
    "# 추상클래스 선언하기\n",
    "from abc import *\n",
    "\n",
    "class Character(metaclass=ABCMeta):\n",
    "    @abstractmethod\n",
    "    def attack(self):\n",
    "        pass\n",
    "    \n",
    "    @abstractmethod\n",
    "    def move(self):\n",
    "        pass\n",
    "    def printCh(self):\n",
    "        print('일반메서드')\n",
    "        \n",
    "class Elf(Character):\n",
    "    def attack(self): # 오버라이딩해서 사용!!\n",
    "        print('practice the black art')\n",
    "        \n",
    "    def move(self): # 오버라이딩해서 사용!!\n",
    "        print('fly')\n",
    "        \n",
    "elf = Elf()\n",
    "elf.attack()\n",
    "elf.move()\n",
    "elf.printCh()"
   ]
  }
 ],
 "metadata": {
  "kernelspec": {
   "display_name": "Python 3",
   "language": "python",
   "name": "python3"
  },
  "language_info": {
   "codemirror_mode": {
    "name": "ipython",
    "version": 3
   },
   "file_extension": ".py",
   "mimetype": "text/x-python",
   "name": "python",
   "nbconvert_exporter": "python",
   "pygments_lexer": "ipython3",
   "version": "3.7.3"
  }
 },
 "nbformat": 4,
 "nbformat_minor": 2
}
