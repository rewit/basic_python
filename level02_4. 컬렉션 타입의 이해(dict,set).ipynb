{
 "cells": [
  {
   "cell_type": "markdown",
   "metadata": {},
   "source": [
    "### dictionary\n",
    "  - 가장 많이 사용\n",
    "  - key, value 구조\n",
    "  - 인덱스가 없음(순서를 따지지 않음)\n",
    "  - json type과 동일함\n",
    "  - {\":\"}"
   ]
  },
  {
   "cell_type": "code",
   "execution_count": 7,
   "metadata": {},
   "outputs": [],
   "source": [
    "a = {'불꽃' : '파이리',\n",
    "     '얼음' : '라프라스',\n",
    "     '전기' : '피카츄'}\n",
    "b = {0:1,1:8,2:5}\n",
    "\n",
    "# print(a[2]) #인덱스가 x , 인덱스 호출 불가능"
   ]
  },
  {
   "cell_type": "markdown",
   "metadata": {},
   "source": [
    "  - 항목 insert & update\n",
    "    - 기존에 key값이 존재하면, 새로운 값으로 업데이트\n",
    "    - 기존에 key값이 존재하지 않으면, 새로운 키, 값 생성\n",
    "    - 동일한 key 중복적으로 가질 수 없다 ( unique: 유일성)"
   ]
  },
  {
   "cell_type": "code",
   "execution_count": 8,
   "metadata": {},
   "outputs": [
    {
     "name": "stdout",
     "output_type": "stream",
     "text": [
      "{'불꽃': '파이리', '얼음': '프리져', '전기': '피카츄', '유령': '기라티나'}\n"
     ]
    }
   ],
   "source": [
    "a = {'불꽃' : '파이리',\n",
    "     '얼음' : '라프라스',\n",
    "     '전기' : '피카츄'}\n",
    "a['얼음'] = '프리져'\n",
    "a['유령'] = '팬텀'\n",
    "a['유령'] = '기라티나'\n",
    "print(a)"
   ]
  },
  {
   "cell_type": "markdown",
   "metadata": {},
   "source": [
    "  - update\n",
    "    - 딕셔너리 2개를 병합\n",
    "    - 동일한 key가 존재하면 매개변수로 전달되는 쪽 키 값이 overwrite됨"
   ]
  },
  {
   "cell_type": "code",
   "execution_count": 9,
   "metadata": {},
   "outputs": [
    {
     "name": "stdout",
     "output_type": "stream",
     "text": [
      "{'a': '0', 'd': '4', 'f': '5', 0: 1, 1: 8, 2: 5}\n"
     ]
    }
   ],
   "source": [
    "a = {'a' : '1', 'b' : '2', 'c' : '3'}\n",
    "a = {'a' : '0', 'd' : '4', 'f' : '5'}\n",
    "\n",
    "a.update(b)\n",
    "print(a)"
   ]
  },
  {
   "cell_type": "markdown",
   "metadata": {},
   "source": [
    "  - key 삭제\n",
    "    1. del\n",
    "    2. pop"
   ]
  },
  {
   "cell_type": "code",
   "execution_count": 11,
   "metadata": {},
   "outputs": [
    {
     "name": "stdout",
     "output_type": "stream",
     "text": [
      "{'a': '1', 'b': '2', 'c': '3'}\n",
      "{'a': '1'}\n"
     ]
    }
   ],
   "source": [
    "a = {'a' : '1', 'b' : '2', 'c' : '3'}\n",
    "print(a)\n",
    "\n",
    "a.pop('b')\n",
    "del a['c']\n",
    "print(a)"
   ]
  },
  {
   "cell_type": "markdown",
   "metadata": {},
   "source": [
    "  - clear\n",
    "    - 딕셔너리에 모든 값을 초기화"
   ]
  },
  {
   "cell_type": "code",
   "execution_count": 12,
   "metadata": {},
   "outputs": [
    {
     "name": "stdout",
     "output_type": "stream",
     "text": [
      "{'a': '1', 'b': '2', 'c': '3'}\n",
      "{}\n"
     ]
    }
   ],
   "source": [
    "a = {'a' : '1', 'b' : '2', 'c' : '3'}\n",
    "print(a)\n",
    "\n",
    "a.clear()\n",
    "print(a)"
   ]
  },
  {
   "cell_type": "markdown",
   "metadata": {},
   "source": [
    "  - in\n",
    "      - key값이 포함되어있는지 확인\n",
    "      - 딕셔너리에 크기에 상관없이 항상 연산속도가 일정"
   ]
  },
  {
   "cell_type": "code",
   "execution_count": 13,
   "metadata": {},
   "outputs": [
    {
     "name": "stdout",
     "output_type": "stream",
     "text": [
      "False\n",
      "True\n"
     ]
    }
   ],
   "source": [
    "a = {'a' : '1', 'b' : '2', 'c' : '3'} # dictionary type\n",
    "b = [1,2,3,4,5,6,7,8,9,100] #list type\n",
    "\n",
    "print(2 in a) #dict에 원소가 100개든 1000개든 항상 속도가 일정\n",
    "print(100 in b) #list는 원소의 개수에 따라 편차가 큼(100건이면 100건을 다 조회함)"
   ]
  },
  {
   "cell_type": "markdown",
   "metadata": {},
   "source": [
    "  - dictionary 값 호출\n",
    "    1. dict[key] : 키가 없는 경우 error 발생\n",
    "    2. .get : 키가 없는 경우 None 반환"
   ]
  },
  {
   "cell_type": "code",
   "execution_count": 16,
   "metadata": {},
   "outputs": [
    {
     "name": "stdout",
     "output_type": "stream",
     "text": [
      "None\n"
     ]
    }
   ],
   "source": [
    "# print(a['d'])# 없으면 Error 발생\n",
    "print(a.get('d')) # 없으면 None 발생\n",
    "\n",
    "if 'd' in a:\n",
    "    print(a['d'])"
   ]
  },
  {
   "cell_type": "markdown",
   "metadata": {},
   "source": [
    "모든 keys, values 접근\n",
    "  - keys() : 키만 반환\n",
    "  - values() : 값만 반환\n",
    "  - items() : 키, 값의 튜플 반활"
   ]
  },
  {
   "cell_type": "code",
   "execution_count": 19,
   "metadata": {},
   "outputs": [
    {
     "name": "stdout",
     "output_type": "stream",
     "text": [
      "{'a': '1', 'b': '2', 'c': '3'}\n",
      "['a', 'b', 'c']\n",
      "['1', '2', '3']\n"
     ]
    },
    {
     "data": {
      "text/plain": [
       "[('a', '1'), ('b', '2'), ('c', '3')]"
      ]
     },
     "execution_count": 19,
     "metadata": {},
     "output_type": "execute_result"
    }
   ],
   "source": [
    "print(a)\n",
    "print(list(a.keys()))\n",
    "print(list(a.values()))\n",
    "\n",
    "list(a.items())"
   ]
  },
  {
   "cell_type": "markdown",
   "metadata": {},
   "source": [
    "### set\n",
    "  - 수학에 집합 개념\n",
    "  - 중복값을 제거\n",
    "  - 인덱스가 없음(순서가 없음)\n",
    "  - dictionary에서 key만 활용하는 데이터 구조"
   ]
  },
  {
   "cell_type": "code",
   "execution_count": 20,
   "metadata": {},
   "outputs": [
    {
     "name": "stdout",
     "output_type": "stream",
     "text": [
      "{1, 2, 3, 4, 5}\n"
     ]
    }
   ],
   "source": [
    "a = {1,2,3,4,5}\n",
    "print(a)"
   ]
  },
  {
   "cell_type": "markdown",
   "metadata": {},
   "source": [
    "  - set() 집합으로 변환"
   ]
  },
  {
   "cell_type": "code",
   "execution_count": 24,
   "metadata": {},
   "outputs": [
    {
     "name": "stdout",
     "output_type": "stream",
     "text": [
      "[1, 1, 2, 3, 3, 4, 1, 5]\n",
      "{1, 2, 3, 4, 5}\n",
      "<class 'dict'>\n",
      "<class 'set'>\n"
     ]
    }
   ],
   "source": [
    "a = [1,1,2,3,3,4,1,5] # [] : 리스트\n",
    "print(a)\n",
    "\n",
    "b= set(a) # set은 중복값을 제거\n",
    "print(b)\n",
    "\n",
    "#비어있는 set을 설정\n",
    "#{} : dictionary , set\n",
    "c={} #dictionary\n",
    "print(type(c))\n",
    "d = set() #set type\n",
    "print(type(d))"
   ]
  },
  {
   "cell_type": "markdown",
   "metadata": {},
   "source": [
    "  - set operations\n",
    "    - 수학 연산과 동일\n",
    "    - 교집합, 합집합, 차집합 등 지원"
   ]
  },
  {
   "cell_type": "code",
   "execution_count": 25,
   "metadata": {},
   "outputs": [
    {
     "name": "stdout",
     "output_type": "stream",
     "text": [
      "{1, 2, 3, 4}\n",
      "{2, 3}\n",
      "{1}\n",
      "False\n"
     ]
    }
   ],
   "source": [
    "a = {1,2,3}\n",
    "b = {2,3,4}\n",
    "\n",
    "print(a.union(b)) # 합집합\n",
    "print(a.intersection(b))# 교집합\n",
    "print(a.difference(b)) # 차집합\n",
    "print(a.issubset(b)) # 부분집합(b가 {1,2,3,4} 이면 True 반환)"
   ]
  }
 ],
 "metadata": {
  "kernelspec": {
   "display_name": "Python 3",
   "language": "python",
   "name": "python3"
  },
  "language_info": {
   "codemirror_mode": {
    "name": "ipython",
    "version": 3
   },
   "file_extension": ".py",
   "mimetype": "text/x-python",
   "name": "python",
   "nbconvert_exporter": "python",
   "pygments_lexer": "ipython3",
   "version": "3.7.3"
  }
 },
 "nbformat": 4,
 "nbformat_minor": 2
}
