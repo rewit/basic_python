{
 "cells": [
  {
   "cell_type": "markdown",
   "metadata": {},
   "source": [
    "### 기본데이터 타입 4가지\n",
    "  - int\n",
    "  - float\n",
    "  - str\n",
    "  - bool  \n",
    "  \n",
    "  \n",
    "= : 대입 연산자, == : 비교 연산자"
   ]
  },
  {
   "cell_type": "code",
   "execution_count": 1,
   "metadata": {},
   "outputs": [],
   "source": [
    "# int num =4; (java 코드)\n",
    "num = 4 #(python 코드   타입지정x , 끝 ; 안함 - ;시 에러)\n",
    "pi = 3.14\n",
    "name = '초롱' #들어오는 값에 따라 변수 변경"
   ]
  },
  {
   "cell_type": "markdown",
   "metadata": {},
   "source": [
    "### comment(주석)\n",
    "  -  코드에서 #으로 시작하는 뒷 부분은 실행되지 않음\n",
    "  - python이 소스코드를 실행하면서 #을 만나면 무시\n",
    "  - 개발자(사람)가 보기 위한 용도로 사용"
   ]
  },
  {
   "cell_type": "markdown",
   "metadata": {},
   "source": [
    "### print 함수\n",
    "  - , 를 사용하면 문자열 연산 가능\n",
    "  - 문자열을 합쳐서 출력할 때 기본적으로 한칸 띄움"
   ]
  },
  {
   "cell_type": "code",
   "execution_count": 6,
   "metadata": {},
   "outputs": [
    {
     "name": "stdout",
     "output_type": "stream",
     "text": [
      "Hello\n",
      "Python\n",
      "HelloPython\n",
      "Hello Python 5\n"
     ]
    }
   ],
   "source": [
    "str1 = 'Hello'\n",
    "str2 = 'Python'\n",
    "num = 5\n",
    "\n",
    "print(str1)\n",
    "print(str2) #Java println 처럼 한줄 개행\n",
    "print(str1 + str2)\n",
    "# print(str1 + str2 + num) Type Error 문자열 연산은 문자열끼리만 가능 \n",
    "print(str1,str2,num) #연산이 안될 뿐 결합은 가능 - 나열  기본적으로 한칸 띄워짐"
   ]
  },
  {
   "cell_type": "markdown",
   "metadata": {},
   "source": [
    "  - print 함수 세팅\n",
    "    - sep : 변수 사이에 값을 입력\n",
    "    - end : 마지막에 출력할 문자열 입력\n",
    "      \n",
    "※pring()는 default로 sep=' ', end'\\n'값이 적용"
   ]
  },
  {
   "cell_type": "code",
   "execution_count": 13,
   "metadata": {},
   "outputs": [
    {
     "name": "stdout",
     "output_type": "stream",
     "text": [
      "Hello★Python★5\n",
      "HelloPython5\n",
      "Hello★Python★5ㅋㅋㅋHelloPython5\n"
     ]
    }
   ],
   "source": [
    "print(str1, str2, num, sep='★')\n",
    "print(str1, str2, num, sep='')\n",
    "print(str1, str2, num, sep='★', end='ㅋㅋㅋ')\n",
    "print(str1, str2, num, sep='')"
   ]
  },
  {
   "cell_type": "markdown",
   "metadata": {},
   "source": [
    "### 변수에 값을 확인하는 방법\n",
    "  - print() 사용\n",
    "  - 코드에 마지막에 변수를 입력(output)"
   ]
  },
  {
   "cell_type": "code",
   "execution_count": 17,
   "metadata": {},
   "outputs": [
    {
     "data": {
      "text/plain": [
       "3.14"
      ]
     },
     "execution_count": 17,
     "metadata": {},
     "output_type": "execute_result"
    }
   ],
   "source": [
    "a = 15\n",
    "b = 3.14\n",
    "#print(a)\n",
    "a\n",
    "b"
   ]
  },
  {
   "cell_type": "markdown",
   "metadata": {},
   "source": [
    "### 변수 명명룰\n",
    "1. 숫자로 시작 불가\n",
    "2. 영문 대소문자, _, 숫자로 구성 가능\n",
    "3. 해당 변수를 명확하게 표현할 수 있는 간결한 이름 사용할 것\n",
    "4. 예약어 사용 불가(for, while, if, else, elif class, .....)"
   ]
  },
  {
   "cell_type": "code",
   "execution_count": 18,
   "metadata": {},
   "outputs": [],
   "source": [
    "# 4 = 5 (fail)\n",
    "abcABC = 100\n",
    "_abc531 = 200\n",
    "ABC3 = 300\n",
    "a987BC = 400\n",
    "\n",
    "a = 200\n",
    "bno = 200"
   ]
  },
  {
   "cell_type": "markdown",
   "metadata": {},
   "source": [
    "### Type()\n",
    "  - 변수나 값의 타입을 알려줌"
   ]
  },
  {
   "cell_type": "code",
   "execution_count": 20,
   "metadata": {},
   "outputs": [
    {
     "name": "stdout",
     "output_type": "stream",
     "text": [
      "<class 'int'>\n",
      "<class 'float'>\n"
     ]
    }
   ],
   "source": [
    "a = 10\n",
    "b = 3.14\n",
    "\n",
    "print(type(a))\n",
    "print(type(b))"
   ]
  },
  {
   "cell_type": "markdown",
   "metadata": {},
   "source": [
    "## None\n",
    "  - Null과 같은 내용 (반드시 N은 대분자)"
   ]
  },
  {
   "cell_type": "code",
   "execution_count": 23,
   "metadata": {},
   "outputs": [
    {
     "name": "stdout",
     "output_type": "stream",
     "text": [
      "None\n"
     ]
    }
   ],
   "source": [
    "# int num\n",
    "num2 = None\n",
    "print(num2)"
   ]
  },
  {
   "cell_type": "markdown",
   "metadata": {},
   "source": [
    "### 비교 연산자\n",
    "  - 비교 연산자의 결과는 bool타입 (true or false)\n",
    "  - ==\n",
    "  - !=\n",
    "  - <, >, >=, <=\n",
    "  - +=, -=, *="
   ]
  },
  {
   "cell_type": "code",
   "execution_count": 1,
   "metadata": {},
   "outputs": [
    {
     "name": "stdout",
     "output_type": "stream",
     "text": [
      "False\n",
      "<class 'bool'>\n"
     ]
    }
   ],
   "source": [
    "a = 1\n",
    "b = 2\n",
    "print(a>b)\n",
    "c = a>b\n",
    "print(type(c))"
   ]
  },
  {
   "cell_type": "markdown",
   "metadata": {},
   "source": [
    "### 숫자형 타입\n",
    "  - 수학의 기본 연산자 우선순위 그대로 사용"
   ]
  },
  {
   "cell_type": "code",
   "execution_count": 6,
   "metadata": {},
   "outputs": [
    {
     "name": "stdout",
     "output_type": "stream",
     "text": [
      "15\n",
      "5\n",
      "50\n",
      "2.0\n",
      "0\n",
      "100000\n",
      "30\n",
      "60\n"
     ]
    }
   ],
   "source": [
    "a = 10\n",
    "b = 5\n",
    "\n",
    "print(a+b)\n",
    "print(a-b)\n",
    "print(a*b)\n",
    "print(a/b)\n",
    "print(a%b)\n",
    "print(a**b) # JAVA: 10^5\n",
    "\n",
    "print(a+b*4)\n",
    "print((a+b)*4) # ()를 사용하여 우선순위 지정 가능"
   ]
  },
  {
   "cell_type": "code",
   "execution_count": 7,
   "metadata": {},
   "outputs": [
    {
     "name": "stdout",
     "output_type": "stream",
     "text": [
      "10\n",
      "5\n"
     ]
    }
   ],
   "source": [
    "a = 10\n",
    "a-5\n",
    "print(a)\n",
    "\n",
    "a = a-5\n",
    "print(a)"
   ]
  }
 ],
 "metadata": {
  "kernelspec": {
   "display_name": "Python 3",
   "language": "python",
   "name": "python3"
  },
  "language_info": {
   "codemirror_mode": {
    "name": "ipython",
    "version": 3
   },
   "file_extension": ".py",
   "mimetype": "text/x-python",
   "name": "python",
   "nbconvert_exporter": "python",
   "pygments_lexer": "ipython3",
   "version": "3.7.3"
  }
 },
 "nbformat": 4,
 "nbformat_minor": 2
}
