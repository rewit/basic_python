{
 "cells": [
  {
   "cell_type": "code",
   "execution_count": 3,
   "metadata": {},
   "outputs": [
    {
     "name": "stdout",
     "output_type": "stream",
     "text": [
      "Hello Python\n"
     ]
    }
   ],
   "source": [
    "print('Hello Python')"
   ]
  },
  {
   "cell_type": "markdown",
   "metadata": {},
   "source": [
    "파이썬 지금부터 시작합니다"
   ]
  },
  {
   "cell_type": "markdown",
   "metadata": {},
   "source": [
    "## 1.입력모드와 명령모드\n",
    "  - 입력모드(녹색 테두리): 사용자가 Cell에 커서를 갖다대면 타이핑 가능  \n",
    "  \n",
    "  - 명령모드(파랑 테두리): 입력모드에서 ESC키를 입력하면 변경  \n",
    "  \n",
    "  \n",
    "  * 명령모드에서 h를 누르면 Help로 주피터 노트북의 단축키를 보여줌  \n",
    "  \n",
    "  \n",
    "  - Shift + Enter: 현재 Cell 실행 후 하단으로 이동    \n",
    "    (하단에 Cell이 없으면 생성 후 이동)\n",
    "  - Ctrl + Enter: 현재 Cell 실행만 함\n",
    "  - Alt + Enter: 현재 Cell실행 후 하단에 Shell 생성"
   ]
  },
  {
   "cell_type": "markdown",
   "metadata": {},
   "source": [
    "## 2.Cell Type\n",
    "  - Code: Cell 옆에 ln[]:이 뜨는 Cell, []안의 숫자는 실행된 횟수를 의미\n",
    "  - Markdown: 코드에 대한 설명 및 주석\n",
    "  - 상단 Nav 메뉴에서 [Cell]-[Cell Type]로 변경 가능\n",
    "  - 명령모드에서 m을 누르면 Markdown Type으로 변경\n",
    "  - 명령모드에서 y를 누르면 Code Type으로 변경"
   ]
  },
  {
   "cell_type": "markdown",
   "metadata": {},
   "source": [
    "## 3.Markdown 명령어  \n",
    "### 3.1 Title 만들기(#의 개수가 많을수록 작은 크기의 제목)  \n",
    "  \n",
    "# Hello Python\n",
    "## Hello Python\n",
    "### Hello Python\n",
    "#### Hello Python  \n",
    "\n",
    "### 3.2 진하게 만들기  \n",
    "  - 단어 앞 뒤에 **입력  \n",
    "**Python** is really cool\n",
    "      \n",
    "### 3.3 이텍릭체 만들기\n",
    "  - 단어 앞 뒤에 * 입력  \n",
    "python is really *cool*\n",
    "\n",
    "### 3.4 순서없는 리스트 만들기\n",
    "- python  \n",
    "  - pandas  \n",
    "    - depth1\n",
    "    - depth2\n",
    "  - numpy\n",
    "- java\n",
    "- C++\n",
    "- golang\n",
    "\n",
    "### 3.5 순서 있는 리스트 만들기\n",
    "1. Python\n",
    "2. Java\n",
    "3. C\n",
    "\n",
    "### 3.6 인용구 만들기\n",
    "> Life is too short, You need Python\n",
    "\n",
    "### 3.7 수식 표현하기\n",
    "$y=3x$\n",
    "\n",
    "### 3.8 Python 코드 표현하기\n",
    "```python\n",
    "a = 10\n",
    "print(a)\n",
    "```\n",
    "\n",
    "### 3.9 하이퍼링크 만들기\n",
    "[Python](https:///www.python.org)"
   ]
  },
  {
   "cell_type": "code",
   "execution_count": null,
   "metadata": {},
   "outputs": [],
   "source": []
  }
 ],
 "metadata": {
  "kernelspec": {
   "display_name": "Python 3",
   "language": "python",
   "name": "python3"
  },
  "language_info": {
   "codemirror_mode": {
    "name": "ipython",
    "version": 3
   },
   "file_extension": ".py",
   "mimetype": "text/x-python",
   "name": "python",
   "nbconvert_exporter": "python",
   "pygments_lexer": "ipython3",
   "version": "3.7.3"
  }
 },
 "nbformat": 4,
 "nbformat_minor": 2
}
